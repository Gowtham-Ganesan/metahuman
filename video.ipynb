{
 "cells": [
  {
   "cell_type": "code",
   "execution_count": 1,
   "id": "d25591ef",
   "metadata": {},
   "outputs": [],
   "source": [
    "import numpy as np\n",
    "from PIL import Image\n",
    "import cv2\n",
    "import tensorflow as tf\n"
   ]
  },
  {
   "cell_type": "code",
   "execution_count": null,
   "id": "5ab7ae41",
   "metadata": {},
   "outputs": [],
   "source": [
    "model_path = \"Traffic.h5\"\n",
    "loaded_model = tf.keras.models.load_model(model_path)\n",
    "cap = cv2.VideoCapture(0)\n",
    "while True:\n",
    "    ret, test_img = cap.read()\n",
    "    filename = 'Temp/video.jpg'\n",
    "    cv2.imwrite(filename, test_img)\n",
    "    image = cv2.imread(filename)\n",
    "\n",
    "    image_fromarray = Image.fromarray(image, 'RGB')\n",
    "    resize_image = image_fromarray.resize((30, 30))\n",
    "    expand_input = np.expand_dims(resize_image,axis=0)\n",
    "    input_data = np.array(expand_input)\n",
    "    input_data = input_data/255\n",
    "    pred = loaded_model.predict(input_data)\n",
    "    result = pred.argmax()\n",
    "    CATEGORIES = ['Speed limit (20km/h)','Speed limit (30km/h)','Speed limit (50km/h)','Speed limit (60km/h)','Speed limit (70km/h)',\n",
    "              'Speed limit (80km/h)','End of speed limit (80km/h)','Speed limit (100km/h)','Speed limit (120km/h)','No passing',\n",
    "              'No passing veh over 3.5 tons','Right-of-way at intersection','Priority road','Yield','Stop','No vehicles',\n",
    "              'Veh > 3.5 tons prohibited','No entry','General caution','Dangerous curve left','Dangerous curve right','Double curve',\n",
    "               'Bumpy road','Slippery road','Road narrows on the right','Road work','Traffic signals','Pedestrians',\n",
    "               'Children crossing','Bicycles crossing','Beware of ice/snow','Wild animals crossing','End speed + passing limits',\n",
    "               'Turn right ahead','Turn left ahead','Ahead only','Go straight or right','Go straight or left','Keep right',\n",
    "               'Keep left','Roundabout mandatory','End of no passing','End no passing veh > 3.5 ton']\n",
    "    print(CATEGORIES[result])\n"
   ]
  },
  {
   "cell_type": "code",
   "execution_count": null,
   "id": "583d0aa1",
   "metadata": {},
   "outputs": [],
   "source": [
    "cap.release()\n",
    "# Destroy all the windows\n",
    "cv2.destroyAllWindows()"
   ]
  }
 ],
 "metadata": {
  "kernelspec": {
   "display_name": "Python 3",
   "language": "python",
   "name": "python3"
  },
  "language_info": {
   "codemirror_mode": {
    "name": "ipython",
    "version": 3
   },
   "file_extension": ".py",
   "mimetype": "text/x-python",
   "name": "python",
   "nbconvert_exporter": "python",
   "pygments_lexer": "ipython3",
   "version": "3.8.8"
  }
 },
 "nbformat": 4,
 "nbformat_minor": 5
}
