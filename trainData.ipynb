{
 "cells": [
  {
   "cell_type": "code",
   "execution_count": 1,
   "id": "296f21e9",
   "metadata": {},
   "outputs": [],
   "source": [
    "import os\n",
    "import cv2\n",
    "import keras\n",
    "import random\n",
    "import numpy as np\n",
    "import matplotlib.pyplot as plt\n",
    "from keras.models import Sequential\n",
    "from matplotlib import pyplot as plt\n",
    "from keras.layers import Conv2D, MaxPooling2D, Dense, Flatten\n",
    "from keras import callbacks\n",
    "\n",
    "%matplotlib inline"
   ]
  },
  {
   "cell_type": "code",
   "execution_count": 2,
   "id": "5eec9bde",
   "metadata": {},
   "outputs": [],
   "source": [
    "DIRECTORY = 'Dataset'"
   ]
  },
  {
   "cell_type": "code",
   "execution_count": 5,
   "id": "881d4cb7",
   "metadata": {},
   "outputs": [],
   "source": [
    "CATEGORIES1 = ['Speed limit (20km/h)','Speed limit (30km/h)','Speed limit (50km/h)','Speed limit (60km/h)','Speed limit (70km/h)',\n",
    "              'Speed limit (80km/h)','End of speed limit (80km/h)','Speed limit (100km/h)','Speed limit (120km/h)','No passing',\n",
    "              'No passing veh over 3.5 tons','Right-of-way at intersection','Priority road','Yield','Stop','No vehicles',\n",
    "              'Veh > 3.5 tons prohibited','No entry','General caution','Dangerous curve left','Dangerous curve right','Double curve',\n",
    "               'Bumpy road','Slippery road','Road narrows on the right','Road work','Traffic signals','Pedestrians',\n",
    "               'Children crossing','Bicycles crossing','Beware of ice/snow','Wild animals crossing','End speed + passing limits',\n",
    "               'Turn right ahead','Turn left ahead','Ahead only','Go straight or right','Go straight or left','Keep right',\n",
    "               'Keep left','Roundabout mandatory','End of no passing','End no passing veh > 3.5 tons','Car','Buildings',\n",
    "               'Forest', 'Mountain','Sea','Street','Vehicle']\n",
    "CATEGORIES = [str(i) for i in range(0,50)]"
   ]
  },
  {
   "cell_type": "code",
   "execution_count": 7,
   "id": "4378af80",
   "metadata": {},
   "outputs": [],
   "source": [
    "data = []\n",
    "\n",
    "for category in CATEGORIES:\n",
    "    path = os.path.join(DIRECTORY, category)\n",
    "    for img in os.listdir(path):\n",
    "        img_path = os.path.join(path, img)\n",
    "        label = CATEGORIES.index(category)\n",
    "        arr = cv2.imread(img_path, cv2.IMREAD_GRAYSCALE)\n",
    "        try:\n",
    "            new_arr = cv2.resize(arr, (120, 120))\n",
    "        except:\n",
    "            pass\n",
    "        data.append([new_arr, label])"
   ]
  },
  {
   "cell_type": "code",
   "execution_count": 8,
   "id": "18a64afc",
   "metadata": {},
   "outputs": [
    {
     "data": {
      "text/plain": [
       "(71630, 120, 120, 1)"
      ]
     },
     "execution_count": 8,
     "metadata": {},
     "output_type": "execute_result"
    }
   ],
   "source": [
    "random.shuffle(data)\n",
    "X = []\n",
    "y = []\n",
    "\n",
    "for features, label in data:\n",
    "    X.append(features)\n",
    "    y.append(label)\n",
    "\n",
    "X = np.array(X)\n",
    "y = np.array(y)\n",
    "X = X/255\n",
    "X = X.reshape(-1, 120, 120, 1)\n",
    "X.shape"
   ]
  },
  {
   "cell_type": "code",
   "execution_count": 9,
   "id": "bb9538a9",
   "metadata": {},
   "outputs": [],
   "source": [
    "model = Sequential()\n",
    "\n",
    "model.add(Conv2D(64, (3,3), activation = 'relu'))\n",
    "model.add(MaxPooling2D((2,2)))\n",
    "\n",
    "model.add(Conv2D(64, (3,3), activation = 'relu'))\n",
    "model.add(MaxPooling2D((2,2)))\n",
    "\n",
    "model.add(Flatten())\n",
    "\n",
    "model.add(Dense(128, input_shape = X.shape[1:], activation = 'relu'))\n",
    "\n",
    "model.add(Dense(51, activation = 'softmax'))"
   ]
  },
  {
   "cell_type": "code",
   "execution_count": 10,
   "id": "515e0e9e",
   "metadata": {},
   "outputs": [],
   "source": [
    "model.compile(optimizer='adam',loss='sparse_categorical_crossentropy', metrics=['accuracy'])"
   ]
  },
  {
   "cell_type": "code",
   "execution_count": 11,
   "id": "c1f7b5e0",
   "metadata": {},
   "outputs": [
    {
     "name": "stdout",
     "output_type": "stream",
     "text": [
      "Epoch 1/9\n",
      "2015/2015 [==============================] - 778s 383ms/step - loss: 0.7388 - accuracy: 0.7915 - val_loss: 0.2894 - val_accuracy: 0.9069\n",
      "Epoch 2/9\n",
      "2015/2015 [==============================] - 738s 366ms/step - loss: 0.2171 - accuracy: 0.9310 - val_loss: 0.2228 - val_accuracy: 0.9270\n",
      "Epoch 3/9\n",
      "2015/2015 [==============================] - 724s 359ms/step - loss: 0.1339 - accuracy: 0.9553 - val_loss: 0.2060 - val_accuracy: 0.9402\n",
      "Epoch 4/9\n",
      "2015/2015 [==============================] - 724s 359ms/step - loss: 0.0872 - accuracy: 0.9715 - val_loss: 0.2167 - val_accuracy: 0.9398\n",
      "Epoch 5/9\n",
      "2015/2015 [==============================] - 724s 359ms/step - loss: 0.0596 - accuracy: 0.9810 - val_loss: 0.2611 - val_accuracy: 0.9370\n",
      "Epoch 6/9\n",
      "2015/2015 [==============================] - 780s 387ms/step - loss: 0.0459 - accuracy: 0.9854 - val_loss: 0.2870 - val_accuracy: 0.9394\n",
      "Epoch 7/9\n",
      "2015/2015 [==============================] - 722s 358ms/step - loss: 0.0378 - accuracy: 0.9880 - val_loss: 0.3439 - val_accuracy: 0.9389\n",
      "Epoch 8/9\n",
      "2015/2015 [==============================] - 721s 358ms/step - loss: 0.0332 - accuracy: 0.9901 - val_loss: 0.3630 - val_accuracy: 0.9416\n",
      "Epoch 9/9\n",
      "2015/2015 [==============================] - 719s 357ms/step - loss: 0.0268 - accuracy: 0.9923 - val_loss: 0.3605 - val_accuracy: 0.9425\n"
     ]
    },
    {
     "data": {
      "text/plain": [
       "<keras.callbacks.History at 0x29680093be0>"
      ]
     },
     "execution_count": 11,
     "metadata": {},
     "output_type": "execute_result"
    }
   ],
   "source": [
    "model.fit(X, y, epochs=9, validation_split=0.1)"
   ]
  },
  {
   "cell_type": "code",
   "execution_count": 14,
   "id": "c9f03f89",
   "metadata": {},
   "outputs": [],
   "source": [
    "model.save(\"imp.h5\")"
   ]
  }
 ],
 "metadata": {
  "kernelspec": {
   "display_name": "Python 3",
   "language": "python",
   "name": "python3"
  },
  "language_info": {
   "codemirror_mode": {
    "name": "ipython",
    "version": 3
   },
   "file_extension": ".py",
   "mimetype": "text/x-python",
   "name": "python",
   "nbconvert_exporter": "python",
   "pygments_lexer": "ipython3",
   "version": "3.8.8"
  }
 },
 "nbformat": 4,
 "nbformat_minor": 5
}
